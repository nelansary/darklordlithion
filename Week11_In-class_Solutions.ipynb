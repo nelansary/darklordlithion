{
 "cells": [
  {
   "cell_type": "markdown",
   "metadata": {},
   "source": [
    "# INST 326 – Object-oriented Programming\n",
    "# Week 11 - 4/3 to 4/7\n",
    "# In-Class Exercises - Solutions"
   ]
  },
  {
   "cell_type": "markdown",
   "metadata": {},
   "source": [
    "## Exercise 1 "
   ]
  },
  {
   "cell_type": "markdown",
   "metadata": {},
   "source": [
    "#### Define a function sum_first_n() which accepts a list t and an integer n as arguments and returns the sum of the first n elements of the list t. For example:\n",
    "\n",
    " - if sum_first_n() is passed the arguments [1, 6, 3, 4] and 3, it would sum and return 1 + 6 + 3 = 10\n",
    " \n",
    " ##### What if someone passes an integer n which is greater than the length of t? In this case, print an error message and return -1. "
   ]
  },
  {
   "cell_type": "code",
   "execution_count": null,
   "metadata": {
    "collapsed": true
   },
   "outputs": [],
   "source": [
    "# finish the function:\n",
    "\n",
    "def sum_first_n(t, n):\n",
    "    '''\n",
    "    Return the first n elements of t\n",
    "    where t is a list and n is an integer\n",
    "    '''\n",
    "    if (n > len(t)):\n",
    "        print(\"Error: n is greater than length of t.\")\n",
    "        return -1\n",
    "    \n",
    "    sum = 0\n",
    "    for i in range(n):\n",
    "        sum = sum + t[i]\n",
    "    return sum"
   ]
  },
  {
   "cell_type": "markdown",
   "metadata": {},
   "source": [
    "#### Write and run a line of code that calls and prints your function with [1, 6, 3, 4] and 3 as arguments."
   ]
  },
  {
   "cell_type": "code",
   "execution_count": null,
   "metadata": {
    "collapsed": false
   },
   "outputs": [],
   "source": [
    "# insert code that calls your function\n",
    "print(sum_first_n([1,6,3,4],3))"
   ]
  },
  {
   "cell_type": "markdown",
   "metadata": {},
   "source": [
    "## Exercise 2 "
   ]
  },
  {
   "cell_type": "markdown",
   "metadata": {},
   "source": [
    "#### Define a function n_squares() which accepts an integer n as an argument and maps every integer from 1 to n to its square (using a dictionary) . For example:\n",
    "\n",
    " - if n_squares() is passed the integer 4, it should return the dictionary {1:1, 2:4, 3:9, 4:16}\n",
    " \n",
    " ##### Don't forget to return your dictionary! "
   ]
  },
  {
   "cell_type": "code",
   "execution_count": null,
   "metadata": {
    "collapsed": true
   },
   "outputs": [],
   "source": [
    "# finish the function:\n",
    "\n",
    "def n_squares(n):\n",
    "    '''\n",
    "    Map every integer from 1 to n to its square\n",
    "    '''\n",
    "    d = dict()\n",
    "    for num in range(n):\n",
    "        #Map keys to values\n",
    "        d[num] = n * n\n",
    "\n",
    "    return d"
   ]
  },
  {
   "cell_type": "markdown",
   "metadata": {},
   "source": [
    "#### Write and run a line of code that calls and prints your function with 5 as the argument."
   ]
  },
  {
   "cell_type": "code",
   "execution_count": null,
   "metadata": {
    "collapsed": false
   },
   "outputs": [],
   "source": [
    "# insert code that calls your function\n",
    "print(n_squares(5))"
   ]
  },
  {
   "cell_type": "markdown",
   "metadata": {},
   "source": [
    "## Exercise 3"
   ]
  },
  {
   "cell_type": "markdown",
   "metadata": {},
   "source": [
    "#### Define a function unzip() which accepts a list t as an argument and returns two new lists. The first list should contain the even indices and the second list should contain the odd indices . For example:\n",
    "\n",
    " - if unzip() is passed the list [10, 4, 28, 17], it should return [10, 28] and [4, 17].\n",
    " \n",
    " ##### Consider the zero-th element an even number."
   ]
  },
  {
   "cell_type": "code",
   "execution_count": null,
   "metadata": {
    "collapsed": true
   },
   "outputs": [],
   "source": [
    "# finish the function:\n",
    "\n",
    "def unzip(t):\n",
    "    '''\n",
    "    Split the list by even and odd indices\n",
    "    '''\n",
    "    x, y = list(), list()\n",
    "    \n",
    "    for num in range(len(t)):\n",
    "        if num == 0:\n",
    "            x.append(t[num])\n",
    "        elif num % 2 == 0:\n",
    "            # index is even\n",
    "            x.append(t[num])\n",
    "        else:\n",
    "            # index is odd\n",
    "            y.append(t[num])\n",
    "    return x, y"
   ]
  },
  {
   "cell_type": "markdown",
   "metadata": {},
   "source": [
    "#### Write and run a line of code that calls and prints your function with the list [10, 20, 30, 40] as the argument."
   ]
  },
  {
   "cell_type": "code",
   "execution_count": null,
   "metadata": {
    "collapsed": false
   },
   "outputs": [],
   "source": [
    "# insert code that calls your function\n",
    "print(unzip([10,20,30,40]))"
   ]
  },
  {
   "cell_type": "markdown",
   "metadata": {},
   "source": [
    "# Advanced Problems"
   ]
  },
  {
   "cell_type": "markdown",
   "metadata": {},
   "source": [
    "## Exercise 4"
   ]
  },
  {
   "cell_type": "markdown",
   "metadata": {},
   "source": [
    "#### Define a function is_sorted() which accepts a list as an argument and returns True if the list is sorted in ascending order, False otherwise. For example:\n",
    "\n",
    " - is_sorted([1, 2, 3]) should return True\n",
    " - is_sorted(['a', 'c', 'b']) should return False\n",
    " \n",
    " ##### Hint: Loop through the list and check if each element is less than the previous. If this condition is ever True, you should stop and immediately return ________?"
   ]
  },
  {
   "cell_type": "code",
   "execution_count": null,
   "metadata": {
    "collapsed": true
   },
   "outputs": [],
   "source": [
    "# insert function definition here\n",
    "def is_sorted(t):\n",
    "    s = False\n",
    "    for i in range(len(t)):\n",
    "        if i == 0:\n",
    "            continue\n",
    "        if t[i] < t[i-1]:\n",
    "            s = True\n",
    "        if s == True:\n",
    "            return False\n",
    "    return True"
   ]
  },
  {
   "cell_type": "markdown",
   "metadata": {},
   "source": [
    "#### Write and run a line of code that calls your function with [1, 4, 10, 7, 3] as the argument. It should return False, as it is not sorted."
   ]
  },
  {
   "cell_type": "code",
   "execution_count": null,
   "metadata": {
    "collapsed": false
   },
   "outputs": [],
   "source": [
    "# insert code that calls your function\n",
    "print(is_sorted([1,4,10,7,3]))"
   ]
  },
  {
   "cell_type": "markdown",
   "metadata": {},
   "source": [
    "## Exercise 5"
   ]
  },
  {
   "cell_type": "markdown",
   "metadata": {},
   "source": [
    "#### Consider a dictionary items_prices which maps various food items (keys) to prices (values). Write a function get_discounts() which accepts two parameters: items_prices (the dictionary of foods and prices) and a float discount, which is the amount to discount each item. This function should return a new dictionary with all the foods and their discounted prices. Do not modify the original. For example, if you pass get_discounts() the dictionary \n",
    "\n",
    "{'apples': 8.00, 'coffee': 4.00, 'milk': 2.00} \n",
    "\n",
    "#### with 0.25 as the discount amount, it should return a new dictionary\n",
    "\n",
    "{'apples': 6.00, 'coffee': 3.00, 'milk': 1.50}\n",
    " \n",
    " ##### Hint: To avoid accidentally aliasing, use the copy() method to make a new copy of your dictionary parameter."
   ]
  },
  {
   "cell_type": "code",
   "execution_count": null,
   "metadata": {
    "collapsed": true
   },
   "outputs": [],
   "source": [
    "# insert function definition here\n",
    "def get_discounts(current, discount):\n",
    "    new = current.copy()\n",
    "    for key in new:\n",
    "        new[key] = new[key] - (new[key] * discount)\n",
    "    return new"
   ]
  },
  {
   "cell_type": "markdown",
   "metadata": {},
   "source": [
    "#### Write and run a line of code that calls your function with some sample input."
   ]
  },
  {
   "cell_type": "code",
   "execution_count": null,
   "metadata": {
    "collapsed": false
   },
   "outputs": [],
   "source": [
    "# insert code that calls your function\n",
    "print(get_discounts({'apples': 8.00, 'coffee': 4.00, 'milk': 2.00},0.25))"
   ]
  },
  {
   "cell_type": "markdown",
   "metadata": {},
   "source": [
    "## Exercise 6"
   ]
  },
  {
   "cell_type": "markdown",
   "metadata": {},
   "source": [
    "#### This exercise uses a tuple as the key in a dictionary. Complete the following program segment. The program is intended to prompt the user for input and use that input to implement a dictionary which maps names to phone numbers. After executing, your dictionary should use tuples to store each first and last name, formatted as follows:\n",
    "\n",
    " - {('Kules', 'Bill'): '(123) 456-7890', ('Wolford', 'Dimitri'): '(234) 567-8901'}\n",
    " \n",
    "#### Once you are finished revising the code, execute it and make sure that it works.\n",
    " \n",
    "##### Hint: The next variable is a Boolean which is used to either continue or end the loop."
   ]
  },
  {
   "cell_type": "code",
   "execution_count": null,
   "metadata": {
    "collapsed": false
   },
   "outputs": [],
   "source": [
    "phonebook = dict()\n",
    "next = True\n",
    "while(next):\n",
    "    name = input(\"Enter the next name, first name followed by last name: \")\n",
    "    first, last = name.split()\n",
    "    number = input(\"Enter the corresponding phone number: \")\n",
    "    phonebook[last,first] = number\n",
    "    next = input(\"Do you wish to continue? <Y/N> \")\n",
    "    if next == 'Y':\n",
    "        continue\n",
    "    else:\n",
    "        break\n",
    "print(phonebook)"
   ]
  }
 ],
 "metadata": {
  "anaconda-cloud": {},
  "kernelspec": {
   "display_name": "Python 3",
   "language": "python",
   "name": "python3"
  },
  "language_info": {
   "codemirror_mode": {
    "name": "ipython",
    "version": 3.0
   },
   "file_extension": ".py",
   "mimetype": "text/x-python",
   "name": "python",
   "nbconvert_exporter": "python",
   "pygments_lexer": "ipython3",
   "version": "3.6.0"
  }
 },
 "nbformat": 4,
 "nbformat_minor": 0
}